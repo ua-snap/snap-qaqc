{
 "cells": [
  {
   "cell_type": "markdown",
   "id": "3686b241-396e-4d0d-b111-435a35902e4e",
   "metadata": {
    "tags": []
   },
   "source": [
    "# SNAP QA/QC Protocol\n",
    "\n",
    "This notebook is the official SNAP QA/QC protocol template notebook! Its intended use is for conducting quality assurance and quality control on SNAP datasets to ensure they meet or reasonably approximate the [SNAP quality data standard](quality_standard.md).\n",
    "\n",
    "## Using this notebook\n",
    "\n",
    "This notebook is both the protocol (described as numbered steps) and template python code for completing those steps. Copy this notebook into the data pipeline responsible for producing the data product (in the case of SNAP-produced datasets) or other location being used for curation of an external dataset. Currently, this notebook only covers a few classes of data that are commonly produced/consumed within SNAP's routine activities.\n",
    "\n",
    "The code herein relies on the installable `snap_qaqc` package."
   ]
  },
  {
   "cell_type": "markdown",
   "id": "8e19c906-1a41-4bda-9307-9271236ba473",
   "metadata": {},
   "source": [
    "## 1. Copy this and the `metadata.ipynb` notebooks!\n",
    "\n",
    "If the `snap-qaqc` package is installed, these notebooks can be easily produced by running `startqaqc` in the desired folder. Otherwise they can be manually copied in. \n",
    "\n",
    "**Note** - this step should be completed before the final step of any data pipeline whose product(s) will require file metadata. Quality data begins with production!"
   ]
  },
  {
   "cell_type": "markdown",
   "id": "8231e425-155d-4922-9f4e-e10f3f33273a",
   "metadata": {},
   "source": [
    "## 2. Complete the [Metadata Collection Protocol](metadata.ipynb)\n",
    "\n",
    "Complete the [Metadata Collection Protocol notebook](metadata.ipynb). This will serve as the main source of metadata which will assist with completing the rest of this protocol. "
   ]
  },
  {
   "cell_type": "code",
   "execution_count": null,
   "id": "3749824d-221f-4158-9a20-0d8f879d9e23",
   "metadata": {},
   "outputs": [],
   "source": []
  }
 ],
 "metadata": {
  "kernelspec": {
   "display_name": "Python 3 (ipykernel)",
   "language": "python",
   "name": "python3"
  },
  "language_info": {
   "codemirror_mode": {
    "name": "ipython",
    "version": 3
   },
   "file_extension": ".py",
   "mimetype": "text/x-python",
   "name": "python",
   "nbconvert_exporter": "python",
   "pygments_lexer": "ipython3",
   "version": "3.8.10"
  }
 },
 "nbformat": 4,
 "nbformat_minor": 5
}
