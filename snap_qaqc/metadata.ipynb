{
 "cells": [
  {
   "cell_type": "markdown",
   "id": "f9ade5e0-9d64-47d1-bd07-1f949b74e5db",
   "metadata": {},
   "source": [
    "# SNAP Metadata Collection Protocol\n",
    "\n",
    "Use this notebook for collecting relevant metadata from the files and compiling it with results from the metadata questionnaire to provide a complete source of all metadata information necessary for both assigning internal (file) and creating external (XML, e.g. ISO-19115) metadata."
   ]
  },
  {
   "cell_type": "markdown",
   "id": "765bf9ed-8f26-442e-a101-f9d2b9fad7c8",
   "metadata": {},
   "source": [
    "## 1. Complete this section: the metadata questionnaire\n",
    "\n",
    "This is the **questionnaire** section. It is used for answering high-level question about the origin of the dataset. This should be populated by the dataset creator(s), so if this is not a SNAP-produced dataset, the creator(s) should complete the Metadata Questionnaire Document, which can then be used to fill populate this section. Otherwise, the programmers/developers producing the data should work with collaborators where necessary to answer the questions herein."
   ]
  },
  {
   "cell_type": "markdown",
   "id": "91992304-04eb-403a-9f55-d29d2723e2ff",
   "metadata": {
    "tags": []
   },
   "source": [
    "## 2. Perform the following automated collection steps on the data\n",
    "\n",
    "This section programmatic queries of the data. "
   ]
  },
  {
   "cell_type": "code",
   "execution_count": null,
   "id": "9ca76165-089d-4e6e-b109-8ec5d1915e75",
   "metadata": {},
   "outputs": [],
   "source": []
  }
 ],
 "metadata": {
  "kernelspec": {
   "display_name": "Python 3 (ipykernel)",
   "language": "python",
   "name": "python3"
  },
  "language_info": {
   "codemirror_mode": {
    "name": "ipython",
    "version": 3
   },
   "file_extension": ".py",
   "mimetype": "text/x-python",
   "name": "python",
   "nbconvert_exporter": "python",
   "pygments_lexer": "ipython3",
   "version": "3.8.10"
  }
 },
 "nbformat": 4,
 "nbformat_minor": 5
}
